{
 "cells": [
  {
   "cell_type": "code",
   "execution_count": 1,
   "metadata": {},
   "outputs": [
    {
     "data": {
      "text/plain": [
       "True"
      ]
     },
     "execution_count": 1,
     "metadata": {},
     "output_type": "execute_result"
    }
   ],
   "source": [
    "from web3 import Web3, EthereumTesterProvider\n",
    "w3 = Web3(EthereumTesterProvider())\n",
    "w3.is_connected()"
   ]
  },
  {
   "cell_type": "code",
   "execution_count": 11,
   "metadata": {},
   "outputs": [
    {
     "name": "stdout",
     "output_type": "stream",
     "text": [
      "100\n",
      "100\n",
      "69.999976744140625\n",
      "130\n"
     ]
    }
   ],
   "source": [
    "from web3 import Web3\n",
    "\n",
    "ganache_url= \"http://127.0.0.1:7545\"\n",
    "web3= Web3(Web3.HTTPProvider(ganache_url))\n",
    "\n",
    "from_account=\"0x5d690f934a7AA4cde11CeBf4D73c8b39495fdd95\"\n",
    "to_account= \"0x713877eE541Ad18b24cab4810af12540A268Dc35\"\n",
    "\n",
    "print(web3.from_wei(web3.eth.get_balance(from_account),'ether'))\n",
    "print(web3.from_wei(web3.eth.get_balance(to_account), 'ether'))\n",
    "\n",
    "transaction= web3.eth.send_transaction({\n",
    "    'to': to_account,\n",
    "    'from': from_account,\n",
    "    'value': web3.to_wei(30, \"ether\")\n",
    "    })\n",
    "\n",
    "print(web3.from_wei(web3.eth.get_balance(from_account),'ether'))\n",
    "print(web3.from_wei(web3.eth.get_balance(to_account), 'ether'))"
   ]
  },
  {
   "cell_type": "code",
   "execution_count": 4,
   "metadata": {},
   "outputs": [
    {
     "data": {
      "text/plain": [
       "0"
      ]
     },
     "execution_count": 4,
     "metadata": {},
     "output_type": "execute_result"
    }
   ],
   "source": [
    "w3.eth.block_number"
   ]
  },
  {
   "cell_type": "code",
   "execution_count": 7,
   "metadata": {},
   "outputs": [
    {
     "data": {
      "text/plain": [
       "1721457954"
      ]
     },
     "execution_count": 7,
     "metadata": {},
     "output_type": "execute_result"
    }
   ],
   "source": [
    "w3.eth.get_block('latest').timestamp"
   ]
  }
 ],
 "metadata": {
  "kernelspec": {
   "display_name": "Python 3",
   "language": "python",
   "name": "python3"
  },
  "language_info": {
   "codemirror_mode": {
    "name": "ipython",
    "version": 3
   },
   "file_extension": ".py",
   "mimetype": "text/x-python",
   "name": "python",
   "nbconvert_exporter": "python",
   "pygments_lexer": "ipython3",
   "version": "3.11.5"
  }
 },
 "nbformat": 4,
 "nbformat_minor": 2
}
